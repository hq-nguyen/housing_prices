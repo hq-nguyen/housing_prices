{
 "cells": [
  {
   "cell_type": "markdown",
   "metadata": {},
   "source": [
    "# Set up"
   ]
  },
  {
   "cell_type": "code",
   "execution_count": 29,
   "metadata": {},
   "outputs": [],
   "source": [
    "# import libraries\n",
    "import numpy as np\n",
    "import pandas as pd\n",
    "from sklearn.model_selection import train_test_split\n",
    "\n",
    "# loading data\n",
    "data_train_path = './home-data-for-ml-course/train.csv'\n",
    "data_test_path = './home-data-for-ml-course/test.csv'\n",
    "\n",
    "import pandas as pd\n",
    "\n",
    "# Read the data\n",
    "X = pd.read_csv(data_train_path, index_col='Id')\n",
    "X_test_full = pd.read_csv(data_test_path, index_col='Id')\n",
    "\n",
    "# Remove rows with missing target, separate target from predictors\n",
    "X.dropna(axis=0, subset=['SalePrice'], inplace=True)\n",
    "y = X.SalePrice              \n",
    "X.drop(['SalePrice'], axis=1, inplace=True)\n",
    "\n",
    "# Break off validation set from training data\n",
    "X_train_full, X_valid_full, y_train, y_valid = train_test_split(X, y, train_size=0.8, test_size=0.2,\n",
    "                                                                random_state=0)\n",
    "\n",
    "# \"Cardinality\" means the number of unique values in a column\n",
    "# Select categorical columns with relatively low cardinality (convenient but arbitrary)\n",
    "low_cardinality_cols = [cname for cname in X_train_full.columns if X_train_full[cname].nunique() < 10 and \n",
    "                        X_train_full[cname].dtype == \"object\"]\n",
    "\n",
    "# Select numeric columns\n",
    "numeric_cols = [cname for cname in X_train_full.columns if X_train_full[cname].dtype in ['int64', 'float64']]\n",
    "\n",
    "# Keep selected columns only\n",
    "my_cols = low_cardinality_cols + numeric_cols\n",
    "X_train = X_train_full[my_cols].copy()\n",
    "X_valid = X_valid_full[my_cols].copy()\n",
    "X_test = X_test_full[my_cols].copy()\n",
    "\n",
    "# One-hot encode the data (to shorten the code, we use pandas)\n",
    "X_train = pd.get_dummies(X_train)\n",
    "X_valid = pd.get_dummies(X_valid)\n",
    "X_test = pd.get_dummies(X_test)\n",
    "X_train, X_valid = X_train.align(X_valid, join='left', axis=1)\n",
    "X_train, X_test = X_train.align(X_test, join='left', axis=1)\n"
   ]
  },
  {
   "cell_type": "code",
   "execution_count": 30,
   "metadata": {},
   "outputs": [
    {
     "name": "stdout",
     "output_type": "stream",
     "text": [
      "     MSSubClass  LotFrontage  LotArea  OverallQual  OverallCond  YearBuilt  \\\n",
      "Id                                                                           \n",
      "619          20         90.0    11694            9            5       2007   \n",
      "871          20         60.0     6600            5            5       1962   \n",
      "93           30         80.0    13360            5            7       1921   \n",
      "818          20          NaN    13265            8            5       2002   \n",
      "303          20        118.0    13704            7            5       2001   \n",
      "\n",
      "     YearRemodAdd  MasVnrArea  BsmtFinSF1  BsmtFinSF2  ...  SaleType_ConLw  \\\n",
      "Id                                                     ...                   \n",
      "619          2007       452.0          48           0  ...           False   \n",
      "871          1962         0.0           0           0  ...           False   \n",
      "93           2006         0.0         713           0  ...           False   \n",
      "818          2002       148.0        1218           0  ...           False   \n",
      "303          2002       150.0           0           0  ...           False   \n",
      "\n",
      "     SaleType_New  SaleType_Oth  SaleType_WD  SaleCondition_Abnorml  \\\n",
      "Id                                                                    \n",
      "619          True         False        False                  False   \n",
      "871         False         False         True                  False   \n",
      "93          False         False         True                  False   \n",
      "818         False         False         True                  False   \n",
      "303         False         False         True                  False   \n",
      "\n",
      "     SaleCondition_AdjLand  SaleCondition_Alloca  SaleCondition_Family  \\\n",
      "Id                                                                       \n",
      "619                  False                 False                 False   \n",
      "871                  False                 False                 False   \n",
      "93                   False                 False                 False   \n",
      "818                  False                 False                 False   \n",
      "303                  False                 False                 False   \n",
      "\n",
      "     SaleCondition_Normal  SaleCondition_Partial  \n",
      "Id                                                \n",
      "619                 False                   True  \n",
      "871                  True                  False  \n",
      "93                   True                  False  \n",
      "818                  True                  False  \n",
      "303                  True                  False  \n",
      "\n",
      "[5 rows x 226 columns]\n",
      "        MSSubClass  LotFrontage        LotArea  OverallQual  OverallCond  \\\n",
      "count  1168.000000   956.000000    1168.000000  1168.000000  1168.000000   \n",
      "mean     56.605308    69.614017   10589.672945     6.086473     5.572774   \n",
      "std      42.172322    22.946069   10704.180793     1.367472     1.116908   \n",
      "min      20.000000    21.000000    1300.000000     1.000000     1.000000   \n",
      "25%      20.000000    59.000000    7589.500000     5.000000     5.000000   \n",
      "50%      50.000000    69.000000    9512.500000     6.000000     5.000000   \n",
      "75%      70.000000    80.000000   11601.500000     7.000000     6.000000   \n",
      "max     190.000000   313.000000  215245.000000    10.000000     9.000000   \n",
      "\n",
      "         YearBuilt  YearRemodAdd   MasVnrArea   BsmtFinSF1   BsmtFinSF2  ...  \\\n",
      "count  1168.000000   1168.000000  1162.000000  1168.000000  1168.000000  ...   \n",
      "mean   1970.890411   1984.692637   103.481067   439.890411    45.571918  ...   \n",
      "std      30.407486     20.684612   182.676225   435.106803   156.229962  ...   \n",
      "min    1872.000000   1950.000000     0.000000     0.000000     0.000000  ...   \n",
      "25%    1953.750000   1966.000000     0.000000     0.000000     0.000000  ...   \n",
      "50%    1972.000000   1993.000000     0.000000   379.500000     0.000000  ...   \n",
      "75%    2000.000000   2004.000000   167.750000   716.000000     0.000000  ...   \n",
      "max    2010.000000   2010.000000  1600.000000  2260.000000  1120.000000  ...   \n",
      "\n",
      "        GarageArea   WoodDeckSF  OpenPorchSF  EnclosedPorch    3SsnPorch  \\\n",
      "count  1168.000000  1168.000000  1168.000000    1168.000000  1168.000000   \n",
      "mean    473.632705    94.498288    48.044521      23.022260     3.218322   \n",
      "std     209.442320   127.312017    68.619199      63.153093    27.916593   \n",
      "min       0.000000     0.000000     0.000000       0.000000     0.000000   \n",
      "25%     336.000000     0.000000     0.000000       0.000000     0.000000   \n",
      "50%     477.500000     0.000000    26.000000       0.000000     0.000000   \n",
      "75%     576.000000   168.000000    68.000000       0.000000     0.000000   \n",
      "max    1390.000000   736.000000   547.000000     552.000000   508.000000   \n",
      "\n",
      "       ScreenPorch     PoolArea       MiscVal       MoSold       YrSold  \n",
      "count  1168.000000  1168.000000   1168.000000  1168.000000  1168.000000  \n",
      "mean     14.528253     2.118151     50.936644     6.301370  2007.819349  \n",
      "std      54.009608    36.482294    550.380636     2.725977     1.335971  \n",
      "min       0.000000     0.000000      0.000000     1.000000  2006.000000  \n",
      "25%       0.000000     0.000000      0.000000     5.000000  2007.000000  \n",
      "50%       0.000000     0.000000      0.000000     6.000000  2008.000000  \n",
      "75%       0.000000     0.000000      0.000000     8.000000  2009.000000  \n",
      "max     480.000000   738.000000  15500.000000    12.000000  2010.000000  \n",
      "\n",
      "[8 rows x 36 columns]\n"
     ]
    }
   ],
   "source": [
    "# looking at the data\n",
    "print(X_train.head())\n",
    "print(X_train.describe())"
   ]
  },
  {
   "cell_type": "markdown",
   "metadata": {},
   "source": [
    "# Building Model"
   ]
  },
  {
   "cell_type": "code",
   "execution_count": null,
   "metadata": {},
   "outputs": [
    {
     "name": "stdout",
     "output_type": "stream",
     "text": [
      "Mean Absolute Error (MAE) on validation set: 17224.27947078339\n"
     ]
    }
   ],
   "source": [
    "from xgboost import XGBRegressor\n",
    "from sklearn.metrics import mean_absolute_error\n",
    "\n",
    "# Initialize the XGBRegressor model\n",
    "my_model = XGBRegressor(n_estimators=1000, learning_rate=0.05)\n",
    "\n",
    "# Fit the model without early stopping\n",
    "my_model.fit(X_train, y_train, verbose=False)\n",
    "\n",
    "# Predict on the validation set\n",
    "y_valid_pred = my_model.predict(X_valid)\n",
    "\n",
    "# Calculate the Mean Absolute Error (MAE)\n",
    "mae = mean_absolute_error(y_valid, y_valid_pred)\n",
    "print(f'Mean Absolute Error (MAE) on validation set: {mae}')\n"
   ]
  },
  {
   "cell_type": "code",
   "execution_count": 54,
   "metadata": {},
   "outputs": [],
   "source": [
    "# Make predictions on the test set (which does not have the target)\n",
    "y_test_pred = my_model.predict(X_test)\n",
    "\n",
    "# Create a DataFrame for the submission\n",
    "submission = pd.DataFrame({\n",
    "    'Id': X_test.index,  # Using the index (Id) from the test set\n",
    "    'SalePrice': y_test_pred\n",
    "})\n",
    "\n",
    "# Save the predictions to a CSV file for submission\n",
    "submission.to_csv('submission.csv', index=False)\n"
   ]
  }
 ],
 "metadata": {
  "kernelspec": {
   "display_name": "Python 3",
   "language": "python",
   "name": "python3"
  },
  "language_info": {
   "codemirror_mode": {
    "name": "ipython",
    "version": 3
   },
   "file_extension": ".py",
   "mimetype": "text/x-python",
   "name": "python",
   "nbconvert_exporter": "python",
   "pygments_lexer": "ipython3",
   "version": "3.12.1"
  }
 },
 "nbformat": 4,
 "nbformat_minor": 2
}
